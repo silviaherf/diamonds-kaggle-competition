{
 "cells": [
  {
   "cell_type": "code",
   "execution_count": 2,
   "metadata": {},
   "outputs": [],
   "source": [
    "import pandas as pd\n",
    "import seaborn as sns\n",
    "from sklearn.model_selection import train_test_split\n",
    "from sklearn.metrics import mean_squared_error\n",
    "from math import sqrt\n",
    "from sklearn.metrics import r2_score\n",
    "from sklearn import preprocessing\n",
    "from sklearn.decomposition import PCA\n",
    "from sklearn.ensemble import RandomForestRegressor\n",
    "from sklearn.model_selection import KFold\n",
    "from sklearn.model_selection import cross_val_score\n",
    "from sklearn.metrics import confusion_matrix,classification_report\n",
    "import pickle\n",
    "import matplotlib.pyplot as plt"
   ]
  },
  {
   "cell_type": "code",
   "execution_count": 3,
   "metadata": {},
   "outputs": [],
   "source": [
    "data=pd.read_csv('../input/train.csv',encoding='latin-1')"
   ]
  },
  {
   "cell_type": "code",
   "execution_count": 4,
   "metadata": {},
   "outputs": [],
   "source": [
    "#id: only for test & sample submission files, id for prediction sample identification\n",
    "#price: price in USD\n",
    "#carat: weight of the diamond\n",
    "#cut: quality of the cut (Fair, Good, Very Good, Premium, Ideal)\n",
    "#color: diamond colour, from J (worst) to D (best)\n",
    "#clarity: a measurement of how clear the diamond is (I1 (worst), SI2, SI1, VS2, VS1, VVS2, VVS1, IF (best))\n",
    "#x: length in mm\n",
    "#y: width in mm\n",
    "#z: depth in mm\n",
    "#depth: total depth percentage = z / mean(x, y) = 2 * z / (x + y) (43--79)\n",
    "#table: width of top of diamond relative to widest point (43--95)"
   ]
  },
  {
   "cell_type": "code",
   "execution_count": 5,
   "metadata": {},
   "outputs": [],
   "source": [
    "#We will look at the data in order to understand it"
   ]
  },
  {
   "cell_type": "code",
   "execution_count": 6,
   "metadata": {},
   "outputs": [
    {
     "data": {
      "text/html": [
       "<div>\n",
       "<style scoped>\n",
       "    .dataframe tbody tr th:only-of-type {\n",
       "        vertical-align: middle;\n",
       "    }\n",
       "\n",
       "    .dataframe tbody tr th {\n",
       "        vertical-align: top;\n",
       "    }\n",
       "\n",
       "    .dataframe thead th {\n",
       "        text-align: right;\n",
       "    }\n",
       "</style>\n",
       "<table border=\"1\" class=\"dataframe\">\n",
       "  <thead>\n",
       "    <tr style=\"text-align: right;\">\n",
       "      <th></th>\n",
       "      <th>id</th>\n",
       "      <th>carat</th>\n",
       "      <th>cut</th>\n",
       "      <th>color</th>\n",
       "      <th>clarity</th>\n",
       "      <th>depth</th>\n",
       "      <th>table</th>\n",
       "      <th>x</th>\n",
       "      <th>y</th>\n",
       "      <th>z</th>\n",
       "      <th>price</th>\n",
       "    </tr>\n",
       "  </thead>\n",
       "  <tbody>\n",
       "    <tr>\n",
       "      <th>0</th>\n",
       "      <td>0</td>\n",
       "      <td>1.12</td>\n",
       "      <td>Premium</td>\n",
       "      <td>H</td>\n",
       "      <td>SI1</td>\n",
       "      <td>61.6</td>\n",
       "      <td>59.0</td>\n",
       "      <td>6.67</td>\n",
       "      <td>6.63</td>\n",
       "      <td>4.10</td>\n",
       "      <td>5363</td>\n",
       "    </tr>\n",
       "    <tr>\n",
       "      <th>1</th>\n",
       "      <td>1</td>\n",
       "      <td>1.14</td>\n",
       "      <td>Very Good</td>\n",
       "      <td>E</td>\n",
       "      <td>SI2</td>\n",
       "      <td>60.0</td>\n",
       "      <td>54.0</td>\n",
       "      <td>6.74</td>\n",
       "      <td>6.97</td>\n",
       "      <td>4.11</td>\n",
       "      <td>5593</td>\n",
       "    </tr>\n",
       "    <tr>\n",
       "      <th>2</th>\n",
       "      <td>2</td>\n",
       "      <td>0.90</td>\n",
       "      <td>Very Good</td>\n",
       "      <td>D</td>\n",
       "      <td>SI2</td>\n",
       "      <td>60.3</td>\n",
       "      <td>63.0</td>\n",
       "      <td>6.12</td>\n",
       "      <td>6.22</td>\n",
       "      <td>3.72</td>\n",
       "      <td>3534</td>\n",
       "    </tr>\n",
       "    <tr>\n",
       "      <th>3</th>\n",
       "      <td>3</td>\n",
       "      <td>0.71</td>\n",
       "      <td>Ideal</td>\n",
       "      <td>E</td>\n",
       "      <td>VS1</td>\n",
       "      <td>61.9</td>\n",
       "      <td>54.0</td>\n",
       "      <td>5.74</td>\n",
       "      <td>5.76</td>\n",
       "      <td>3.56</td>\n",
       "      <td>3212</td>\n",
       "    </tr>\n",
       "    <tr>\n",
       "      <th>4</th>\n",
       "      <td>4</td>\n",
       "      <td>0.34</td>\n",
       "      <td>Very Good</td>\n",
       "      <td>F</td>\n",
       "      <td>SI2</td>\n",
       "      <td>60.0</td>\n",
       "      <td>62.0</td>\n",
       "      <td>4.51</td>\n",
       "      <td>4.55</td>\n",
       "      <td>2.72</td>\n",
       "      <td>447</td>\n",
       "    </tr>\n",
       "  </tbody>\n",
       "</table>\n",
       "</div>"
      ],
      "text/plain": [
       "   id  carat        cut color clarity  depth  table     x     y     z  price\n",
       "0   0   1.12    Premium     H     SI1   61.6   59.0  6.67  6.63  4.10   5363\n",
       "1   1   1.14  Very Good     E     SI2   60.0   54.0  6.74  6.97  4.11   5593\n",
       "2   2   0.90  Very Good     D     SI2   60.3   63.0  6.12  6.22  3.72   3534\n",
       "3   3   0.71      Ideal     E     VS1   61.9   54.0  5.74  5.76  3.56   3212\n",
       "4   4   0.34  Very Good     F     SI2   60.0   62.0  4.51  4.55  2.72    447"
      ]
     },
     "execution_count": 6,
     "metadata": {},
     "output_type": "execute_result"
    }
   ],
   "source": [
    "data.head()"
   ]
  },
  {
   "cell_type": "code",
   "execution_count": 7,
   "metadata": {},
   "outputs": [
    {
     "data": {
      "text/plain": [
       "(40455, 11)"
      ]
     },
     "execution_count": 7,
     "metadata": {},
     "output_type": "execute_result"
    }
   ],
   "source": [
    "data.shape"
   ]
  },
  {
   "cell_type": "code",
   "execution_count": 8,
   "metadata": {},
   "outputs": [
    {
     "data": {
      "text/plain": [
       "id           int64\n",
       "carat      float64\n",
       "cut         object\n",
       "color       object\n",
       "clarity     object\n",
       "depth      float64\n",
       "table      float64\n",
       "x          float64\n",
       "y          float64\n",
       "z          float64\n",
       "price        int64\n",
       "dtype: object"
      ]
     },
     "execution_count": 8,
     "metadata": {},
     "output_type": "execute_result"
    }
   ],
   "source": [
    "data.dtypes"
   ]
  },
  {
   "cell_type": "code",
   "execution_count": 9,
   "metadata": {},
   "outputs": [
    {
     "data": {
      "text/plain": [
       "id         0\n",
       "carat      0\n",
       "cut        0\n",
       "color      0\n",
       "clarity    0\n",
       "depth      0\n",
       "table      0\n",
       "x          0\n",
       "y          0\n",
       "z          0\n",
       "price      0\n",
       "dtype: int64"
      ]
     },
     "execution_count": 9,
     "metadata": {},
     "output_type": "execute_result"
    }
   ],
   "source": [
    "data.isna().sum()"
   ]
  },
  {
   "cell_type": "code",
   "execution_count": 10,
   "metadata": {},
   "outputs": [],
   "source": [
    "data=data.drop_duplicates()"
   ]
  },
  {
   "cell_type": "code",
   "execution_count": 11,
   "metadata": {},
   "outputs": [],
   "source": [
    "#There are not null values, neither duplicates"
   ]
  },
  {
   "cell_type": "code",
   "execution_count": 12,
   "metadata": {},
   "outputs": [
    {
     "data": {
      "text/plain": [
       "Ideal        16250\n",
       "Premium      10342\n",
       "Very Good     9026\n",
       "Good          3639\n",
       "Fair          1198\n",
       "Name: cut, dtype: int64"
      ]
     },
     "execution_count": 12,
     "metadata": {},
     "output_type": "execute_result"
    }
   ],
   "source": [
    "data['cut'].value_counts()"
   ]
  },
  {
   "cell_type": "code",
   "execution_count": 13,
   "metadata": {},
   "outputs": [
    {
     "data": {
      "text/plain": [
       "G    8565\n",
       "E    7344\n",
       "F    7162\n",
       "H    6147\n",
       "D    5063\n",
       "I    4052\n",
       "J    2122\n",
       "Name: color, dtype: int64"
      ]
     },
     "execution_count": 13,
     "metadata": {},
     "output_type": "execute_result"
    }
   ],
   "source": [
    "data['color'].value_counts()"
   ]
  },
  {
   "cell_type": "code",
   "execution_count": 14,
   "metadata": {},
   "outputs": [
    {
     "data": {
      "text/plain": [
       "SI1     9806\n",
       "VS2     9204\n",
       "SI2     6865\n",
       "VS1     6099\n",
       "VVS2    3778\n",
       "VVS1    2776\n",
       "IF      1365\n",
       "I1       562\n",
       "Name: clarity, dtype: int64"
      ]
     },
     "execution_count": 14,
     "metadata": {},
     "output_type": "execute_result"
    }
   ],
   "source": [
    "data['clarity'].value_counts()"
   ]
  },
  {
   "cell_type": "code",
   "execution_count": 15,
   "metadata": {},
   "outputs": [],
   "source": [
    "#We want to check the price of the diamonds, just in case we want to split data according to those values afterwards"
   ]
  },
  {
   "cell_type": "code",
   "execution_count": 16,
   "metadata": {},
   "outputs": [
    {
     "data": {
      "text/html": [
       "<div>\n",
       "<style scoped>\n",
       "    .dataframe tbody tr th:only-of-type {\n",
       "        vertical-align: middle;\n",
       "    }\n",
       "\n",
       "    .dataframe tbody tr th {\n",
       "        vertical-align: top;\n",
       "    }\n",
       "\n",
       "    .dataframe thead th {\n",
       "        text-align: right;\n",
       "    }\n",
       "</style>\n",
       "<table border=\"1\" class=\"dataframe\">\n",
       "  <thead>\n",
       "    <tr style=\"text-align: right;\">\n",
       "      <th></th>\n",
       "      <th>id</th>\n",
       "      <th>carat</th>\n",
       "      <th>cut</th>\n",
       "      <th>color</th>\n",
       "      <th>clarity</th>\n",
       "      <th>depth</th>\n",
       "      <th>table</th>\n",
       "      <th>x</th>\n",
       "      <th>y</th>\n",
       "      <th>z</th>\n",
       "      <th>price</th>\n",
       "    </tr>\n",
       "  </thead>\n",
       "  <tbody>\n",
       "    <tr>\n",
       "      <th>14955</th>\n",
       "      <td>14955</td>\n",
       "      <td>2.00</td>\n",
       "      <td>Very Good</td>\n",
       "      <td>G</td>\n",
       "      <td>SI1</td>\n",
       "      <td>63.5</td>\n",
       "      <td>56.0</td>\n",
       "      <td>7.90</td>\n",
       "      <td>7.97</td>\n",
       "      <td>5.04</td>\n",
       "      <td>18818</td>\n",
       "    </tr>\n",
       "    <tr>\n",
       "      <th>25017</th>\n",
       "      <td>25017</td>\n",
       "      <td>2.07</td>\n",
       "      <td>Ideal</td>\n",
       "      <td>G</td>\n",
       "      <td>SI2</td>\n",
       "      <td>62.5</td>\n",
       "      <td>55.0</td>\n",
       "      <td>8.20</td>\n",
       "      <td>8.13</td>\n",
       "      <td>5.11</td>\n",
       "      <td>18804</td>\n",
       "    </tr>\n",
       "    <tr>\n",
       "      <th>14089</th>\n",
       "      <td>14089</td>\n",
       "      <td>2.00</td>\n",
       "      <td>Very Good</td>\n",
       "      <td>H</td>\n",
       "      <td>SI1</td>\n",
       "      <td>62.8</td>\n",
       "      <td>57.0</td>\n",
       "      <td>7.95</td>\n",
       "      <td>8.00</td>\n",
       "      <td>5.01</td>\n",
       "      <td>18803</td>\n",
       "    </tr>\n",
       "    <tr>\n",
       "      <th>18387</th>\n",
       "      <td>18387</td>\n",
       "      <td>2.29</td>\n",
       "      <td>Premium</td>\n",
       "      <td>I</td>\n",
       "      <td>SI1</td>\n",
       "      <td>61.8</td>\n",
       "      <td>59.0</td>\n",
       "      <td>8.52</td>\n",
       "      <td>8.45</td>\n",
       "      <td>5.24</td>\n",
       "      <td>18797</td>\n",
       "    </tr>\n",
       "    <tr>\n",
       "      <th>5933</th>\n",
       "      <td>5933</td>\n",
       "      <td>2.04</td>\n",
       "      <td>Premium</td>\n",
       "      <td>H</td>\n",
       "      <td>SI1</td>\n",
       "      <td>58.1</td>\n",
       "      <td>60.0</td>\n",
       "      <td>8.37</td>\n",
       "      <td>8.28</td>\n",
       "      <td>4.84</td>\n",
       "      <td>18795</td>\n",
       "    </tr>\n",
       "    <tr>\n",
       "      <th>29475</th>\n",
       "      <td>29475</td>\n",
       "      <td>2.00</td>\n",
       "      <td>Premium</td>\n",
       "      <td>I</td>\n",
       "      <td>VS1</td>\n",
       "      <td>60.8</td>\n",
       "      <td>59.0</td>\n",
       "      <td>8.13</td>\n",
       "      <td>8.02</td>\n",
       "      <td>4.91</td>\n",
       "      <td>18795</td>\n",
       "    </tr>\n",
       "    <tr>\n",
       "      <th>36991</th>\n",
       "      <td>36991</td>\n",
       "      <td>1.71</td>\n",
       "      <td>Premium</td>\n",
       "      <td>F</td>\n",
       "      <td>VS2</td>\n",
       "      <td>62.3</td>\n",
       "      <td>59.0</td>\n",
       "      <td>7.57</td>\n",
       "      <td>7.53</td>\n",
       "      <td>4.70</td>\n",
       "      <td>18791</td>\n",
       "    </tr>\n",
       "    <tr>\n",
       "      <th>20794</th>\n",
       "      <td>20794</td>\n",
       "      <td>2.15</td>\n",
       "      <td>Ideal</td>\n",
       "      <td>G</td>\n",
       "      <td>SI2</td>\n",
       "      <td>62.6</td>\n",
       "      <td>54.0</td>\n",
       "      <td>8.29</td>\n",
       "      <td>8.35</td>\n",
       "      <td>5.21</td>\n",
       "      <td>18791</td>\n",
       "    </tr>\n",
       "    <tr>\n",
       "      <th>28955</th>\n",
       "      <td>28955</td>\n",
       "      <td>2.05</td>\n",
       "      <td>Ideal</td>\n",
       "      <td>G</td>\n",
       "      <td>SI1</td>\n",
       "      <td>61.9</td>\n",
       "      <td>57.0</td>\n",
       "      <td>8.10</td>\n",
       "      <td>8.16</td>\n",
       "      <td>5.03</td>\n",
       "      <td>18787</td>\n",
       "    </tr>\n",
       "    <tr>\n",
       "      <th>37011</th>\n",
       "      <td>37011</td>\n",
       "      <td>2.05</td>\n",
       "      <td>Premium</td>\n",
       "      <td>F</td>\n",
       "      <td>SI2</td>\n",
       "      <td>60.2</td>\n",
       "      <td>59.0</td>\n",
       "      <td>8.28</td>\n",
       "      <td>8.33</td>\n",
       "      <td>5.00</td>\n",
       "      <td>18784</td>\n",
       "    </tr>\n",
       "  </tbody>\n",
       "</table>\n",
       "</div>"
      ],
      "text/plain": [
       "          id  carat        cut color clarity  depth  table     x     y     z  \\\n",
       "14955  14955   2.00  Very Good     G     SI1   63.5   56.0  7.90  7.97  5.04   \n",
       "25017  25017   2.07      Ideal     G     SI2   62.5   55.0  8.20  8.13  5.11   \n",
       "14089  14089   2.00  Very Good     H     SI1   62.8   57.0  7.95  8.00  5.01   \n",
       "18387  18387   2.29    Premium     I     SI1   61.8   59.0  8.52  8.45  5.24   \n",
       "5933    5933   2.04    Premium     H     SI1   58.1   60.0  8.37  8.28  4.84   \n",
       "29475  29475   2.00    Premium     I     VS1   60.8   59.0  8.13  8.02  4.91   \n",
       "36991  36991   1.71    Premium     F     VS2   62.3   59.0  7.57  7.53  4.70   \n",
       "20794  20794   2.15      Ideal     G     SI2   62.6   54.0  8.29  8.35  5.21   \n",
       "28955  28955   2.05      Ideal     G     SI1   61.9   57.0  8.10  8.16  5.03   \n",
       "37011  37011   2.05    Premium     F     SI2   60.2   59.0  8.28  8.33  5.00   \n",
       "\n",
       "       price  \n",
       "14955  18818  \n",
       "25017  18804  \n",
       "14089  18803  \n",
       "18387  18797  \n",
       "5933   18795  \n",
       "29475  18795  \n",
       "36991  18791  \n",
       "20794  18791  \n",
       "28955  18787  \n",
       "37011  18784  "
      ]
     },
     "execution_count": 16,
     "metadata": {},
     "output_type": "execute_result"
    }
   ],
   "source": [
    "data.sort_values(by='price',ascending=False).head(10)"
   ]
  },
  {
   "cell_type": "code",
   "execution_count": 17,
   "metadata": {},
   "outputs": [],
   "source": [
    "dataplot=data.sort_values(by='price',ascending=True).reset_index()"
   ]
  },
  {
   "cell_type": "code",
   "execution_count": 18,
   "metadata": {},
   "outputs": [],
   "source": [
    "dataplot=dataplot.reset_index()"
   ]
  },
  {
   "cell_type": "code",
   "execution_count": 19,
   "metadata": {},
   "outputs": [
    {
     "data": {
      "text/plain": [
       "<matplotlib.axes._subplots.AxesSubplot at 0x7f6967c18d60>"
      ]
     },
     "execution_count": 19,
     "metadata": {},
     "output_type": "execute_result"
    },
    {
     "data": {
      "image/png": "[encoded data removed]",
      "text/plain": [
       "<Figure size 432x288 with 1 Axes>"
      ]
     },
     "metadata": {
      "needs_background": "light"
     },
     "output_type": "display_data"
    }
   ],
   "source": [
    "sns.lineplot(dataplot['level_0'],dataplot['price'])"
   ]
  },
  {
   "cell_type": "markdown",
   "metadata": {},
   "source": [
    "### Let's see the correlation matrix of the parameters we want to use"
   ]
  },
  {
   "cell_type": "code",
   "execution_count": 20,
   "metadata": {},
   "outputs": [],
   "source": [
    "data_train=data.drop(['id','price'],axis=1)"
   ]
  },
  {
   "cell_type": "code",
   "execution_count": 21,
   "metadata": {},
   "outputs": [],
   "source": [
    "columns={'cut','color','clarity'}"
   ]
  },
  {
   "cell_type": "code",
   "execution_count": 22,
   "metadata": {},
   "outputs": [],
   "source": [
    "for column in columns:\n",
    "    le = preprocessing.LabelEncoder()\n",
    "    data_train[f\"{column}_ord\"] = le.fit_transform(data_train[column])"
   ]
  },
  {
   "cell_type": "code",
   "execution_count": 23,
   "metadata": {},
   "outputs": [
    {
     "data": {
      "text/html": [
       "<div>\n",
       "<style scoped>\n",
       "    .dataframe tbody tr th:only-of-type {\n",
       "        vertical-align: middle;\n",
       "    }\n",
       "\n",
       "    .dataframe tbody tr th {\n",
       "        vertical-align: top;\n",
       "    }\n",
       "\n",
       "    .dataframe thead th {\n",
       "        text-align: right;\n",
       "    }\n",
       "</style>\n",
       "<table border=\"1\" class=\"dataframe\">\n",
       "  <thead>\n",
       "    <tr style=\"text-align: right;\">\n",
       "      <th></th>\n",
       "      <th>carat</th>\n",
       "      <th>cut</th>\n",
       "      <th>color</th>\n",
       "      <th>clarity</th>\n",
       "      <th>depth</th>\n",
       "      <th>table</th>\n",
       "      <th>x</th>\n",
       "      <th>y</th>\n",
       "      <th>z</th>\n",
       "      <th>color_ord</th>\n",
       "      <th>clarity_ord</th>\n",
       "      <th>cut_ord</th>\n",
       "    </tr>\n",
       "  </thead>\n",
       "  <tbody>\n",
       "    <tr>\n",
       "      <th>0</th>\n",
       "      <td>1.12</td>\n",
       "      <td>Premium</td>\n",
       "      <td>H</td>\n",
       "      <td>SI1</td>\n",
       "      <td>61.6</td>\n",
       "      <td>59.0</td>\n",
       "      <td>6.67</td>\n",
       "      <td>6.63</td>\n",
       "      <td>4.10</td>\n",
       "      <td>4</td>\n",
       "      <td>2</td>\n",
       "      <td>3</td>\n",
       "    </tr>\n",
       "    <tr>\n",
       "      <th>1</th>\n",
       "      <td>1.14</td>\n",
       "      <td>Very Good</td>\n",
       "      <td>E</td>\n",
       "      <td>SI2</td>\n",
       "      <td>60.0</td>\n",
       "      <td>54.0</td>\n",
       "      <td>6.74</td>\n",
       "      <td>6.97</td>\n",
       "      <td>4.11</td>\n",
       "      <td>1</td>\n",
       "      <td>3</td>\n",
       "      <td>4</td>\n",
       "    </tr>\n",
       "    <tr>\n",
       "      <th>2</th>\n",
       "      <td>0.90</td>\n",
       "      <td>Very Good</td>\n",
       "      <td>D</td>\n",
       "      <td>SI2</td>\n",
       "      <td>60.3</td>\n",
       "      <td>63.0</td>\n",
       "      <td>6.12</td>\n",
       "      <td>6.22</td>\n",
       "      <td>3.72</td>\n",
       "      <td>0</td>\n",
       "      <td>3</td>\n",
       "      <td>4</td>\n",
       "    </tr>\n",
       "    <tr>\n",
       "      <th>3</th>\n",
       "      <td>0.71</td>\n",
       "      <td>Ideal</td>\n",
       "      <td>E</td>\n",
       "      <td>VS1</td>\n",
       "      <td>61.9</td>\n",
       "      <td>54.0</td>\n",
       "      <td>5.74</td>\n",
       "      <td>5.76</td>\n",
       "      <td>3.56</td>\n",
       "      <td>1</td>\n",
       "      <td>4</td>\n",
       "      <td>2</td>\n",
       "    </tr>\n",
       "    <tr>\n",
       "      <th>4</th>\n",
       "      <td>0.34</td>\n",
       "      <td>Very Good</td>\n",
       "      <td>F</td>\n",
       "      <td>SI2</td>\n",
       "      <td>60.0</td>\n",
       "      <td>62.0</td>\n",
       "      <td>4.51</td>\n",
       "      <td>4.55</td>\n",
       "      <td>2.72</td>\n",
       "      <td>2</td>\n",
       "      <td>3</td>\n",
       "      <td>4</td>\n",
       "    </tr>\n",
       "    <tr>\n",
       "      <th>...</th>\n",
       "      <td>...</td>\n",
       "      <td>...</td>\n",
       "      <td>...</td>\n",
       "      <td>...</td>\n",
       "      <td>...</td>\n",
       "      <td>...</td>\n",
       "      <td>...</td>\n",
       "      <td>...</td>\n",
       "      <td>...</td>\n",
       "      <td>...</td>\n",
       "      <td>...</td>\n",
       "      <td>...</td>\n",
       "    </tr>\n",
       "    <tr>\n",
       "      <th>40450</th>\n",
       "      <td>0.90</td>\n",
       "      <td>Good</td>\n",
       "      <td>D</td>\n",
       "      <td>SI1</td>\n",
       "      <td>63.8</td>\n",
       "      <td>58.0</td>\n",
       "      <td>6.13</td>\n",
       "      <td>6.09</td>\n",
       "      <td>3.90</td>\n",
       "      <td>0</td>\n",
       "      <td>2</td>\n",
       "      <td>1</td>\n",
       "    </tr>\n",
       "    <tr>\n",
       "      <th>40451</th>\n",
       "      <td>0.35</td>\n",
       "      <td>Ideal</td>\n",
       "      <td>D</td>\n",
       "      <td>VVS1</td>\n",
       "      <td>62.0</td>\n",
       "      <td>54.0</td>\n",
       "      <td>4.56</td>\n",
       "      <td>4.57</td>\n",
       "      <td>2.83</td>\n",
       "      <td>0</td>\n",
       "      <td>6</td>\n",
       "      <td>2</td>\n",
       "    </tr>\n",
       "    <tr>\n",
       "      <th>40452</th>\n",
       "      <td>0.90</td>\n",
       "      <td>Good</td>\n",
       "      <td>G</td>\n",
       "      <td>SI2</td>\n",
       "      <td>58.4</td>\n",
       "      <td>55.0</td>\n",
       "      <td>6.34</td>\n",
       "      <td>6.39</td>\n",
       "      <td>3.72</td>\n",
       "      <td>3</td>\n",
       "      <td>3</td>\n",
       "      <td>1</td>\n",
       "    </tr>\n",
       "    <tr>\n",
       "      <th>40453</th>\n",
       "      <td>1.21</td>\n",
       "      <td>Good</td>\n",
       "      <td>H</td>\n",
       "      <td>SI1</td>\n",
       "      <td>63.6</td>\n",
       "      <td>56.0</td>\n",
       "      <td>6.63</td>\n",
       "      <td>6.68</td>\n",
       "      <td>4.23</td>\n",
       "      <td>4</td>\n",
       "      <td>2</td>\n",
       "      <td>1</td>\n",
       "    </tr>\n",
       "    <tr>\n",
       "      <th>40454</th>\n",
       "      <td>0.41</td>\n",
       "      <td>Ideal</td>\n",
       "      <td>H</td>\n",
       "      <td>VVS1</td>\n",
       "      <td>61.4</td>\n",
       "      <td>56.0</td>\n",
       "      <td>4.80</td>\n",
       "      <td>4.77</td>\n",
       "      <td>2.94</td>\n",
       "      <td>4</td>\n",
       "      <td>6</td>\n",
       "      <td>2</td>\n",
       "    </tr>\n",
       "  </tbody>\n",
       "</table>\n",
       "<p>40455 rows × 12 columns</p>\n",
       "</div>"
      ],
      "text/plain": [
       "       carat        cut color clarity  depth  table     x     y     z  \\\n",
       "0       1.12    Premium     H     SI1   61.6   59.0  6.67  6.63  4.10   \n",
       "1       1.14  Very Good     E     SI2   60.0   54.0  6.74  6.97  4.11   \n",
       "2       0.90  Very Good     D     SI2   60.3   63.0  6.12  6.22  3.72   \n",
       "3       0.71      Ideal     E     VS1   61.9   54.0  5.74  5.76  3.56   \n",
       "4       0.34  Very Good     F     SI2   60.0   62.0  4.51  4.55  2.72   \n",
       "...      ...        ...   ...     ...    ...    ...   ...   ...   ...   \n",
       "40450   0.90       Good     D     SI1   63.8   58.0  6.13  6.09  3.90   \n",
       "40451   0.35      Ideal     D    VVS1   62.0   54.0  4.56  4.57  2.83   \n",
       "40452   0.90       Good     G     SI2   58.4   55.0  6.34  6.39  3.72   \n",
       "40453   1.21       Good     H     SI1   63.6   56.0  6.63  6.68  4.23   \n",
       "40454   0.41      Ideal     H    VVS1   61.4   56.0  4.80  4.77  2.94   \n",
       "\n",
       "       color_ord  clarity_ord  cut_ord  \n",
       "0              4            2        3  \n",
       "1              1            3        4  \n",
       "2              0            3        4  \n",
       "3              1            4        2  \n",
       "4              2            3        4  \n",
       "...          ...          ...      ...  \n",
       "40450          0            2        1  \n",
       "40451          0            6        2  \n",
       "40452          3            3        1  \n",
       "40453          4            2        1  \n",
       "40454          4            6        2  \n",
       "\n",
       "[40455 rows x 12 columns]"
      ]
     },
     "execution_count": 23,
     "metadata": {},
     "output_type": "execute_result"
    }
   ],
   "source": [
    "data_train"
   ]
  },
  {
   "cell_type": "code",
   "execution_count": 24,
   "metadata": {},
   "outputs": [
    {
     "data": {
      "text/plain": [
       "<matplotlib.axes._subplots.AxesSubplot at 0x7f6967dfcbb0>"
      ]
     },
     "execution_count": 24,
     "metadata": {},
     "output_type": "execute_result"
    },
    {
     "data": {
      "image/png": "[encoded data removed]",
      "text/plain": [
       "<Figure size 432x288 with 2 Axes>"
      ]
     },
     "metadata": {
      "needs_background": "light"
     },
     "output_type": "display_data"
    }
   ],
   "source": [
    "sns.heatmap(data_train.drop(['cut','color','clarity'],axis=1).corr())"
   ]
  },
  {
   "cell_type": "code",
   "execution_count": 25,
   "metadata": {},
   "outputs": [],
   "source": [
    "X=data_train.drop(['cut','color','clarity'],axis=1)"
   ]
  },
  {
   "cell_type": "code",
   "execution_count": 26,
   "metadata": {},
   "outputs": [
    {
     "data": {
      "text/html": [
       "<div>\n",
       "<style scoped>\n",
       "    .dataframe tbody tr th:only-of-type {\n",
       "        vertical-align: middle;\n",
       "    }\n",
       "\n",
       "    .dataframe tbody tr th {\n",
       "        vertical-align: top;\n",
       "    }\n",
       "\n",
       "    .dataframe thead th {\n",
       "        text-align: right;\n",
       "    }\n",
       "</style>\n",
       "<table border=\"1\" class=\"dataframe\">\n",
       "  <thead>\n",
       "    <tr style=\"text-align: right;\">\n",
       "      <th></th>\n",
       "      <th>carat</th>\n",
       "      <th>depth</th>\n",
       "      <th>table</th>\n",
       "      <th>x</th>\n",
       "      <th>y</th>\n",
       "      <th>z</th>\n",
       "      <th>color_ord</th>\n",
       "      <th>clarity_ord</th>\n",
       "      <th>cut_ord</th>\n",
       "    </tr>\n",
       "  </thead>\n",
       "  <tbody>\n",
       "    <tr>\n",
       "      <th>0</th>\n",
       "      <td>1.12</td>\n",
       "      <td>61.6</td>\n",
       "      <td>59.0</td>\n",
       "      <td>6.67</td>\n",
       "      <td>6.63</td>\n",
       "      <td>4.10</td>\n",
       "      <td>4</td>\n",
       "      <td>2</td>\n",
       "      <td>3</td>\n",
       "    </tr>\n",
       "    <tr>\n",
       "      <th>1</th>\n",
       "      <td>1.14</td>\n",
       "      <td>60.0</td>\n",
       "      <td>54.0</td>\n",
       "      <td>6.74</td>\n",
       "      <td>6.97</td>\n",
       "      <td>4.11</td>\n",
       "      <td>1</td>\n",
       "      <td>3</td>\n",
       "      <td>4</td>\n",
       "    </tr>\n",
       "    <tr>\n",
       "      <th>2</th>\n",
       "      <td>0.90</td>\n",
       "      <td>60.3</td>\n",
       "      <td>63.0</td>\n",
       "      <td>6.12</td>\n",
       "      <td>6.22</td>\n",
       "      <td>3.72</td>\n",
       "      <td>0</td>\n",
       "      <td>3</td>\n",
       "      <td>4</td>\n",
       "    </tr>\n",
       "    <tr>\n",
       "      <th>3</th>\n",
       "      <td>0.71</td>\n",
       "      <td>61.9</td>\n",
       "      <td>54.0</td>\n",
       "      <td>5.74</td>\n",
       "      <td>5.76</td>\n",
       "      <td>3.56</td>\n",
       "      <td>1</td>\n",
       "      <td>4</td>\n",
       "      <td>2</td>\n",
       "    </tr>\n",
       "    <tr>\n",
       "      <th>4</th>\n",
       "      <td>0.34</td>\n",
       "      <td>60.0</td>\n",
       "      <td>62.0</td>\n",
       "      <td>4.51</td>\n",
       "      <td>4.55</td>\n",
       "      <td>2.72</td>\n",
       "      <td>2</td>\n",
       "      <td>3</td>\n",
       "      <td>4</td>\n",
       "    </tr>\n",
       "  </tbody>\n",
       "</table>\n",
       "</div>"
      ],
      "text/plain": [
       "   carat  depth  table     x     y     z  color_ord  clarity_ord  cut_ord\n",
       "0   1.12   61.6   59.0  6.67  6.63  4.10          4            2        3\n",
       "1   1.14   60.0   54.0  6.74  6.97  4.11          1            3        4\n",
       "2   0.90   60.3   63.0  6.12  6.22  3.72          0            3        4\n",
       "3   0.71   61.9   54.0  5.74  5.76  3.56          1            4        2\n",
       "4   0.34   60.0   62.0  4.51  4.55  2.72          2            3        4"
      ]
     },
     "execution_count": 26,
     "metadata": {},
     "output_type": "execute_result"
    }
   ],
   "source": [
    "X.head()"
   ]
  },
  {
   "cell_type": "code",
   "execution_count": 27,
   "metadata": {},
   "outputs": [
    {
     "data": {
      "text/plain": [
       "Index(['carat', 'depth', 'table', 'x', 'y', 'z', 'color_ord', 'clarity_ord',\n",
       "       'cut_ord'],\n",
       "      dtype='object')"
      ]
     },
     "execution_count": 27,
     "metadata": {},
     "output_type": "execute_result"
    }
   ],
   "source": [
    "X.columns"
   ]
  },
  {
   "cell_type": "code",
   "execution_count": 28,
   "metadata": {},
   "outputs": [],
   "source": [
    "X=pd.get_dummies(X)"
   ]
  },
  {
   "cell_type": "code",
   "execution_count": 29,
   "metadata": {},
   "outputs": [],
   "source": [
    "y=data['price']"
   ]
  },
  {
   "cell_type": "code",
   "execution_count": 30,
   "metadata": {},
   "outputs": [],
   "source": [
    "X_train, X_test, y_train, y_test = train_test_split(X,y,test_size = 0.2)"
   ]
  },
  {
   "cell_type": "markdown",
   "metadata": {},
   "source": [
    "### We use Kfold"
   ]
  },
  {
   "cell_type": "code",
   "execution_count": 31,
   "metadata": {},
   "outputs": [
    {
     "name": "stderr",
     "output_type": "stream",
     "text": [
      "[Parallel(n_jobs=1)]: Using backend SequentialBackend with 1 concurrent workers.\n",
      "[Parallel(n_jobs=1)]: Done  10 out of  10 | elapsed:  7.5min finished\n",
      "[Parallel(n_jobs=1)]: Using backend SequentialBackend with 1 concurrent workers.\n",
      "[Parallel(n_jobs=1)]: Done  10 out of  10 | elapsed:  7.7min finished\n",
      "[Parallel(n_jobs=1)]: Using backend SequentialBackend with 1 concurrent workers.\n"
     ]
    },
    {
     "name": "stdout",
     "output_type": "stream",
     "text": [
      "-------RF-------\n",
      "Train:\n",
      "r2: 0.9796569296638632\n",
      "RMSE: 567.9413627481499\n"
     ]
    },
    {
     "name": "stderr",
     "output_type": "stream",
     "text": [
      "[Parallel(n_jobs=1)]: Done  10 out of  10 | elapsed:  1.8min finished\n",
      "[Parallel(n_jobs=1)]: Using backend SequentialBackend with 1 concurrent workers.\n"
     ]
    },
    {
     "name": "stdout",
     "output_type": "stream",
     "text": [
      "Test:\n",
      "r2: 0.9741284527904754\n",
      "RMSE: 636.3597952914045\n"
     ]
    },
    {
     "name": "stderr",
     "output_type": "stream",
     "text": [
      "[Parallel(n_jobs=1)]: Done  10 out of  10 | elapsed:  1.8min finished\n"
     ]
    }
   ],
   "source": [
    "num_folds = 10\n",
    "scoring=\"r2\"\n",
    "scoring2 =\"neg_root_mean_squared_error\"\n",
    "models = {\n",
    "\n",
    "\"RF\": RandomForestRegressor(n_estimators=400,max_depth=35)\n",
    "}\n",
    "final_models=[]\n",
    "\n",
    "\n",
    "for name, model in models.items():\n",
    "    kfold = KFold(n_splits=num_folds, random_state=None)\n",
    "    cv_results = cross_val_score(model, X_train, y_train, cv=kfold,    scoring=scoring, verbose=1)\n",
    "    cv_results2 = cross_val_score(model, X_train, y_train, cv=kfold,    scoring=scoring2, verbose=1)\n",
    "    print(f\"-------{name}-------\")\n",
    "    print('Train:')\n",
    "    print(\"r2:\",cv_results.mean())\n",
    "    print(\"RMSE:\",-cv_results2.mean())\n",
    "    cv_results_test = cross_val_score(model, X_test, y_test, cv=kfold,    scoring=scoring, verbose=1)\n",
    "    cv_results_test2 = cross_val_score(model, X_test, y_test, cv=kfold,    scoring=scoring2, verbose=1)\n",
    "    print('Test:')\n",
    "    print(\"r2:\",cv_results_test.mean())\n",
    "    print(\"RMSE:\",-cv_results_test2.mean())\n",
    "    final_models.append(model)"
   ]
  },
  {
   "cell_type": "markdown",
   "metadata": {},
   "source": [
    "### As results are acceptable, we will run the model for the entire dataset"
   ]
  },
  {
   "cell_type": "code",
   "execution_count": 35,
   "metadata": {},
   "outputs": [],
   "source": [
    "RF=final_models[0]"
   ]
  },
  {
   "cell_type": "code",
   "execution_count": 36,
   "metadata": {},
   "outputs": [
    {
     "data": {
      "text/plain": [
       "RandomForestRegressor(max_depth=35, n_estimators=400)"
      ]
     },
     "execution_count": 36,
     "metadata": {},
     "output_type": "execute_result"
    }
   ],
   "source": [
    "RF.fit(X,y)"
   ]
  },
  {
   "cell_type": "code",
   "execution_count": 37,
   "metadata": {},
   "outputs": [],
   "source": [
    "y_pred_test=RF.predict(X_test)"
   ]
  },
  {
   "cell_type": "code",
   "execution_count": 39,
   "metadata": {},
   "outputs": [
    {
     "data": {
      "text/plain": [
       "Text(0.5, 1.0, 'RandomForestRegressor')"
      ]
     },
     "execution_count": 39,
     "metadata": {},
     "output_type": "execute_result"
    },
    {
     "data": {
      "image/png": "[encoded data removed]",
      "text/plain": [
       "<Figure size 576x576 with 1 Axes>"
      ]
     },
     "metadata": {
      "needs_background": "light"
     },
     "output_type": "display_data"
    }
   ],
   "source": [
    "fig, ax = plt.subplots(figsize=(8,8))\n",
    "ax.scatter(y_pred_test, y_test, color=\"g\")\n",
    "ax.plot([y_test.min(), y_test.max()], [y_test.min(), y_test.max()], 'k--', lw=4)\n",
    "ax.set_xlabel('Test Price')\n",
    "ax.set_ylabel('Predicted Price')\n",
    "ax.set_title(\"RandomForestRegressor\")"
   ]
  },
  {
   "cell_type": "markdown",
   "metadata": {},
   "source": [
    "### We save our model to use it aftwerards"
   ]
  },
  {
   "cell_type": "code",
   "execution_count": 38,
   "metadata": {},
   "outputs": [],
   "source": [
    "filename = '../output/RF_model_6.sav'\n",
    "pickle.dump(RF, open(filename, 'wb'))"
   ]
  },
  {
   "cell_type": "code",
   "execution_count": 39,
   "metadata": {},
   "outputs": [],
   "source": [
    "# load the model from disk\n",
    "#RF = pickle.load(open('../output/RF_model_6.sav', 'rb'))\n",
    "#result = loaded_model.score(X_test, Y_test)\n",
    "#print(result)"
   ]
  },
  {
   "cell_type": "markdown",
   "metadata": {},
   "source": [
    "### Data test dataset importation before final prediction"
   ]
  },
  {
   "cell_type": "code",
   "execution_count": 42,
   "metadata": {},
   "outputs": [],
   "source": [
    "data_test=pd.read_csv('../input/predict.csv',encoding='latin-1')"
   ]
  },
  {
   "cell_type": "code",
   "execution_count": 43,
   "metadata": {},
   "outputs": [],
   "source": [
    "data_test=data_test.drop(['id'],axis=1)"
   ]
  },
  {
   "cell_type": "code",
   "execution_count": 44,
   "metadata": {},
   "outputs": [
    {
     "data": {
      "text/plain": [
       "carat      0\n",
       "cut        0\n",
       "color      0\n",
       "clarity    0\n",
       "depth      0\n",
       "table      0\n",
       "x          0\n",
       "y          0\n",
       "z          0\n",
       "dtype: int64"
      ]
     },
     "execution_count": 44,
     "metadata": {},
     "output_type": "execute_result"
    }
   ],
   "source": [
    "data_test.isnull().sum()"
   ]
  },
  {
   "cell_type": "code",
   "execution_count": 45,
   "metadata": {},
   "outputs": [
    {
     "data": {
      "text/plain": [
       "(13485, 9)"
      ]
     },
     "execution_count": 45,
     "metadata": {},
     "output_type": "execute_result"
    }
   ],
   "source": [
    "data_test.shape"
   ]
  },
  {
   "cell_type": "code",
   "execution_count": 46,
   "metadata": {},
   "outputs": [],
   "source": [
    "columns={'cut','color','clarity'}"
   ]
  },
  {
   "cell_type": "code",
   "execution_count": 47,
   "metadata": {},
   "outputs": [],
   "source": [
    "for column in columns:\n",
    "    le = preprocessing.LabelEncoder()\n",
    "    data_test[f\"{column}_ord\"] = le.fit_transform(data_test[column])"
   ]
  },
  {
   "cell_type": "code",
   "execution_count": 48,
   "metadata": {},
   "outputs": [],
   "source": [
    "X_final=data_test.drop(['cut','color','clarity'],axis=1)"
   ]
  },
  {
   "cell_type": "code",
   "execution_count": 49,
   "metadata": {},
   "outputs": [],
   "source": [
    "X_final=pd.get_dummies(X_final)"
   ]
  },
  {
   "cell_type": "code",
   "execution_count": 50,
   "metadata": {},
   "outputs": [
    {
     "data": {
      "text/html": [
       "<div>\n",
       "<style scoped>\n",
       "    .dataframe tbody tr th:only-of-type {\n",
       "        vertical-align: middle;\n",
       "    }\n",
       "\n",
       "    .dataframe tbody tr th {\n",
       "        vertical-align: top;\n",
       "    }\n",
       "\n",
       "    .dataframe thead th {\n",
       "        text-align: right;\n",
       "    }\n",
       "</style>\n",
       "<table border=\"1\" class=\"dataframe\">\n",
       "  <thead>\n",
       "    <tr style=\"text-align: right;\">\n",
       "      <th></th>\n",
       "      <th>carat</th>\n",
       "      <th>depth</th>\n",
       "      <th>table</th>\n",
       "      <th>x</th>\n",
       "      <th>y</th>\n",
       "      <th>z</th>\n",
       "      <th>cut_ord</th>\n",
       "      <th>clarity_ord</th>\n",
       "      <th>color_ord</th>\n",
       "    </tr>\n",
       "  </thead>\n",
       "  <tbody>\n",
       "    <tr>\n",
       "      <th>0</th>\n",
       "      <td>0.33</td>\n",
       "      <td>62.0</td>\n",
       "      <td>58.0</td>\n",
       "      <td>4.44</td>\n",
       "      <td>4.46</td>\n",
       "      <td>2.76</td>\n",
       "      <td>4</td>\n",
       "      <td>1</td>\n",
       "      <td>5</td>\n",
       "    </tr>\n",
       "    <tr>\n",
       "      <th>1</th>\n",
       "      <td>1.21</td>\n",
       "      <td>62.4</td>\n",
       "      <td>58.0</td>\n",
       "      <td>6.77</td>\n",
       "      <td>6.83</td>\n",
       "      <td>4.24</td>\n",
       "      <td>4</td>\n",
       "      <td>3</td>\n",
       "      <td>0</td>\n",
       "    </tr>\n",
       "    <tr>\n",
       "      <th>2</th>\n",
       "      <td>1.06</td>\n",
       "      <td>59.3</td>\n",
       "      <td>60.0</td>\n",
       "      <td>6.64</td>\n",
       "      <td>6.71</td>\n",
       "      <td>3.96</td>\n",
       "      <td>4</td>\n",
       "      <td>2</td>\n",
       "      <td>0</td>\n",
       "    </tr>\n",
       "    <tr>\n",
       "      <th>3</th>\n",
       "      <td>0.36</td>\n",
       "      <td>61.4</td>\n",
       "      <td>57.0</td>\n",
       "      <td>4.64</td>\n",
       "      <td>4.61</td>\n",
       "      <td>2.54</td>\n",
       "      <td>2</td>\n",
       "      <td>6</td>\n",
       "      <td>1</td>\n",
       "    </tr>\n",
       "    <tr>\n",
       "      <th>4</th>\n",
       "      <td>0.70</td>\n",
       "      <td>62.3</td>\n",
       "      <td>54.0</td>\n",
       "      <td>5.67</td>\n",
       "      <td>5.72</td>\n",
       "      <td>3.55</td>\n",
       "      <td>2</td>\n",
       "      <td>4</td>\n",
       "      <td>1</td>\n",
       "    </tr>\n",
       "  </tbody>\n",
       "</table>\n",
       "</div>"
      ],
      "text/plain": [
       "   carat  depth  table     x     y     z  cut_ord  clarity_ord  color_ord\n",
       "0   0.33   62.0   58.0  4.44  4.46  2.76        4            1          5\n",
       "1   1.21   62.4   58.0  6.77  6.83  4.24        4            3          0\n",
       "2   1.06   59.3   60.0  6.64  6.71  3.96        4            2          0\n",
       "3   0.36   61.4   57.0  4.64  4.61  2.54        2            6          1\n",
       "4   0.70   62.3   54.0  5.67  5.72  3.55        2            4          1"
      ]
     },
     "execution_count": 50,
     "metadata": {},
     "output_type": "execute_result"
    }
   ],
   "source": [
    "X_final.head()"
   ]
  },
  {
   "cell_type": "code",
   "execution_count": 51,
   "metadata": {},
   "outputs": [
    {
     "data": {
      "text/plain": [
       "(13485, 9)"
      ]
     },
     "execution_count": 51,
     "metadata": {},
     "output_type": "execute_result"
    }
   ],
   "source": [
    "X_final.shape"
   ]
  },
  {
   "cell_type": "markdown",
   "metadata": {},
   "source": [
    "### Price prediction with defined model"
   ]
  },
  {
   "cell_type": "code",
   "execution_count": 52,
   "metadata": {},
   "outputs": [],
   "source": [
    "y_pred_final=RF.predict(X_final)"
   ]
  },
  {
   "cell_type": "code",
   "execution_count": 53,
   "metadata": {},
   "outputs": [
    {
     "data": {
      "text/plain": [
       "(13485,)"
      ]
     },
     "execution_count": 53,
     "metadata": {},
     "output_type": "execute_result"
    }
   ],
   "source": [
    "y_pred_final.shape"
   ]
  },
  {
   "cell_type": "markdown",
   "metadata": {},
   "source": [
    "### Submission generator"
   ]
  },
  {
   "cell_type": "code",
   "execution_count": 54,
   "metadata": {},
   "outputs": [],
   "source": [
    "submission=pd.DataFrame(data=y_pred_final).reset_index()"
   ]
  },
  {
   "cell_type": "code",
   "execution_count": 55,
   "metadata": {},
   "outputs": [],
   "source": [
    "submission=submission.rename(columns={\"index\":\"id\",0: \"price\"})"
   ]
  },
  {
   "cell_type": "code",
   "execution_count": 56,
   "metadata": {},
   "outputs": [
    {
     "data": {
      "text/html": [
       "<div>\n",
       "<style scoped>\n",
       "    .dataframe tbody tr th:only-of-type {\n",
       "        vertical-align: middle;\n",
       "    }\n",
       "\n",
       "    .dataframe tbody tr th {\n",
       "        vertical-align: top;\n",
       "    }\n",
       "\n",
       "    .dataframe thead th {\n",
       "        text-align: right;\n",
       "    }\n",
       "</style>\n",
       "<table border=\"1\" class=\"dataframe\">\n",
       "  <thead>\n",
       "    <tr style=\"text-align: right;\">\n",
       "      <th></th>\n",
       "      <th>id</th>\n",
       "      <th>price</th>\n",
       "    </tr>\n",
       "  </thead>\n",
       "  <tbody>\n",
       "    <tr>\n",
       "      <th>0</th>\n",
       "      <td>0</td>\n",
       "      <td>804.3700</td>\n",
       "    </tr>\n",
       "    <tr>\n",
       "      <th>1</th>\n",
       "      <td>1</td>\n",
       "      <td>5974.8650</td>\n",
       "    </tr>\n",
       "    <tr>\n",
       "      <th>2</th>\n",
       "      <td>2</td>\n",
       "      <td>5831.7075</td>\n",
       "    </tr>\n",
       "    <tr>\n",
       "      <th>3</th>\n",
       "      <td>3</td>\n",
       "      <td>1131.7975</td>\n",
       "    </tr>\n",
       "    <tr>\n",
       "      <th>4</th>\n",
       "      <td>4</td>\n",
       "      <td>3216.2325</td>\n",
       "    </tr>\n",
       "  </tbody>\n",
       "</table>\n",
       "</div>"
      ],
      "text/plain": [
       "   id      price\n",
       "0   0   804.3700\n",
       "1   1  5974.8650\n",
       "2   2  5831.7075\n",
       "3   3  1131.7975\n",
       "4   4  3216.2325"
      ]
     },
     "execution_count": 56,
     "metadata": {},
     "output_type": "execute_result"
    }
   ],
   "source": [
    "submission.head()"
   ]
  },
  {
   "cell_type": "code",
   "execution_count": 57,
   "metadata": {},
   "outputs": [],
   "source": [
    "submission.to_csv('../output/submission_RF7.csv',columns=['id','price'],index=False)  "
   ]
  }
 ],
 "metadata": {
  "kernelspec": {
   "display_name": "Python 3",
   "language": "python",
   "name": "python3"
  },
  "language_info": {
   "codemirror_mode": {
    "name": "ipython",
    "version": 3
   },
   "file_extension": ".py",
   "mimetype": "text/x-python",
   "name": "python",
   "nbconvert_exporter": "python",
   "pygments_lexer": "ipython3",
   "version": "3.8.2"
  }
 },
 "nbformat": 4,
 "nbformat_minor": 4
}
